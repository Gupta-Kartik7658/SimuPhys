{
 "cells": [
  {
   "cell_type": "code",
   "execution_count": 5,
   "id": "6392e10a",
   "metadata": {},
   "outputs": [
    {
     "data": {
      "text/latex": [
       "$\\displaystyle \\vec{F} = 2 x y\\hat{i} + 5 y^{2}\\hat{j} + \\frac{6 \\sin{\\left(x \\right)} \\cos{\\left(y \\right)}}{\\cos{\\left(z \\right)}}\\hat{k}$"
      ],
      "text/plain": [
       "<IPython.core.display.Math object>"
      ]
     },
     "metadata": {},
     "output_type": "display_data"
    },
    {
     "data": {
      "application/vnd.plotly.v1+json": {
       "config": {
        "plotlyServerURL": "https://plot.ly"
       },
       "data": [
        {
         "anchor": "tail",
         "colorscale": [
          [
           0,
           "rgb(247,251,255)"
          ],
          [
           0.125,
           "rgb(222,235,247)"
          ],
          [
           0.25,
           "rgb(198,219,239)"
          ],
          [
           0.375,
           "rgb(158,202,225)"
          ],
          [
           0.5,
           "rgb(107,174,214)"
          ],
          [
           0.625,
           "rgb(66,146,198)"
          ],
          [
           0.75,
           "rgb(33,113,181)"
          ],
          [
           0.875,
           "rgb(8,81,156)"
          ],
          [
           1,
           "rgb(8,48,107)"
          ]
         ],
         "showscale": true,
         "sizemode": "absolute",
         "sizeref": 0.5,
         "type": "cone",
         "u": {
          "bdata": "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",
          "dtype": "f8"
         },
         "v": {
          "bdata": "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",
          "dtype": "f8"
         },
         "w": {
          "bdata": "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",
          "dtype": "f8"
         },
         "x": {
          "bdata": "AAAAAAAAAMAAAAAAAAAAwAAAAAAAAADAAAAAAAAAAMAAAAAAAAAAwFZVVVVVVfW/VlVVVVVV9b9WVVVVVVX1v1ZVVVVVVfW/VlVVVVVV9b9WVVVVVVXlv1ZVVVVVVeW/VlVVVVVV5b9WVVVVVVXlv1ZVVVVVVeW/AAAAAAAAAAAAAAAAAAAAAAAAAAAAAAAAAAAAAAAAAAAAAAAAAAAAAFRVVVVVVeU/VFVVVVVV5T9UVVVVVVXlP1RVVVVVVeU/VFVVVVVV5T9UVVVVVVX1P1RVVVVVVfU/VFVVVVVV9T9UVVVVVVX1P1RVVVVVVfU/AAAAAAAAAEAAAAAAAAAAQAAAAAAAAABAAAAAAAAAAEAAAAAAAAAAQAAAAAAAAADAAAAAAAAAAMAAAAAAAAAAwAAAAAAAAADAAAAAAAAAAMBWVVVVVVX1v1ZVVVVVVfW/VlVVVVVV9b9WVVVVVVX1v1ZVVVVVVfW/VlVVVVVV5b9WVVVVVVXlv1ZVVVVVVeW/VlVVVVVV5b9WVVVVVVXlvwAAAAAAAAAAAAAAAAAAAAAAAAAAAAAAAAAAAAAAAAAAAAAAAAAAAABUVVVVVVXlP1RVVVVVVeU/VFVVVVVV5T9UVVVVVVXlP1RVVVVVVeU/VFVVVVVV9T9UVVVVVVX1P1RVVVVVVfU/VFVVVVVV9T9UVVVVVVX1PwAAAAAAAABAAAAAAAAAAEAAAAAAAAAAQAAAAAAAAABAAAAAAAAAAEAAAAAAAAAAwAAAAAAAAADAAAAAAAAAAMAAAAAAAAAAwAAAAAAAAADAVlVVVVVV9b9WVVVVVVX1v1ZVVVVVVfW/VlVVVVVV9b9WVVVVVVX1v1ZVVVVVVeW/VlVVVVVV5b9WVVVVVVXlv1ZVVVVVVeW/VlVVVVVV5b8AAAAAAAAAAAAAAAAAAAAAAAAAAAAAAAAAAAAAAAAAAAAAAAAAAAAAVFVVVVVV5T9UVVVVVVXlP1RVVVVVVeU/VFVVVVVV5T9UVVVVVVXlP1RVVVVVVfU/VFVVVVVV9T9UVVVVVVX1P1RVVVVVVfU/VFVVVVVV9T8AAAAAAAAAQAAAAAAAAABAAAAAAAAAAEAAAAAAAAAAQAAAAAAAAABAAAAAAAAAAMAAAAAAAAAAwAAAAAAAAADAAAAAAAAAAMAAAAAAAAAAwFZVVVVVVfW/VlVVVVVV9b9WVVVVVVX1v1ZVVVVVVfW/VlVVVVVV9b9WVVVVVVXlv1ZVVVVVVeW/VlVVVVVV5b9WVVVVVVXlv1ZVVVVVVeW/AAAAAAAAAAAAAAAAAAAAAAAAAAAAAAAAAAAAAAAAAAAAAAAAAAAAAFRVVVVVVeU/VFVVVVVV5T9UVVVVVVXlP1RVVVVVVeU/VFVVVVVV5T9UVVVVVVX1P1RVVVVVVfU/VFVVVVVV9T9UVVVVVVX1P1RVVVVVVfU/AAAAAAAAAEAAAAAAAAAAQAAAAAAAAABAAAAAAAAAAEAAAAAAAAAAQAAAAAAAAADAAAAAAAAAAMAAAAAAAAAAwAAAAAAAAADAAAAAAAAAAMBWVVVVVVX1v1ZVVVVVVfW/VlVVVVVV9b9WVVVVVVX1v1ZVVVVVVfW/VlVVVVVV5b9WVVVVVVXlv1ZVVVVVVeW/VlVVVVVV5b9WVVVVVVXlvwAAAAAAAAAAAAAAAAAAAAAAAAAAAAAAAAAAAAAAAAAAAAAAAAAAAABUVVVVVVXlP1RVVVVVVeU/VFVVVVVV5T9UVVVVVVXlP1RVVVVVVeU/VFVVVVVV9T9UVVVVVVX1P1RVVVVVVfU/VFVVVVVV9T9UVVVVVVX1PwAAAAAAAABAAAAAAAAAAEAAAAAAAAAAQAAAAAAAAABAAAAAAAAAAEAAAAAAAAAAwAAAAAAAAADAAAAAAAAAAMAAAAAAAAAAwAAAAAAAAADAVlVVVVVV9b9WVVVVVVX1v1ZVVVVVVfW/VlVVVVVV9b9WVVVVVVX1v1ZVVVVVVeW/VlVVVVVV5b9WVVVVVVXlv1ZVVVVVVeW/VlVVVVVV5b8AAAAAAAAAAAAAAAAAAAAAAAAAAAAAAAAAAAAAAAAAAAAAAAAAAAAAVFVVVVVV5T9UVVVVVVXlP1RVVVVVVeU/VFVVVVVV5T9UVVVVVVXlP1RVVVVVVfU/VFVVVVVV9T9UVVVVVVX1P1RVVVVVVfU/VFVVVVVV9T8AAAAAAAAAQAAAAAAAAABAAAAAAAAAAEAAAAAAAAAAQAAAAAAAAABAAAAAAAAAAMAAAAAAAAAAwAAAAAAAAADAAAAAAAAAAMAAAAAAAAAAwFZVVVVVVfW/VlVVVVVV9b9WVVVVVVX1v1ZVVVVVVfW/VlVVVVVV9b9WVVVVVVXlv1ZVVVVVVeW/VlVVVVVV5b9WVVVVVVXlv1ZVVVVVVeW/AAAAAAAAAAAAAAAAAAAAAAAAAAAAAAAAAAAAAAAAAAAAAAAAAAAAAFRVVVVVVeU/VFVVVVVV5T9UVVVVVVXlP1RVVVVVVeU/VFVVVVVV5T9UVVVVVVX1P1RVVVVVVfU/VFVVVVVV9T9UVVVVVVX1P1RVVVVVVfU/AAAAAAAAAEAAAAAAAAAAQAAAAAAAAABAAAAAAAAAAEAAAAAAAAAAQA==",
          "dtype": "f8"
         },
         "y": {
          "bdata": "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",
          "dtype": "f8"
         },
         "z": {
          "bdata": "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",
          "dtype": "f8"
         }
        }
       ],
       "layout": {
        "scene": {
         "aspectmode": "cube",
         "xaxis": {
          "title": {
           "text": "X"
          }
         },
         "yaxis": {
          "title": {
           "text": "Y"
          }
         },
         "zaxis": {
          "title": {
           "text": "Z"
          }
         }
        },
        "template": {
         "data": {
          "bar": [
           {
            "error_x": {
             "color": "#2a3f5f"
            },
            "error_y": {
             "color": "#2a3f5f"
            },
            "marker": {
             "line": {
              "color": "#E5ECF6",
              "width": 0.5
             },
             "pattern": {
              "fillmode": "overlay",
              "size": 10,
              "solidity": 0.2
             }
            },
            "type": "bar"
           }
          ],
          "barpolar": [
           {
            "marker": {
             "line": {
              "color": "#E5ECF6",
              "width": 0.5
             },
             "pattern": {
              "fillmode": "overlay",
              "size": 10,
              "solidity": 0.2
             }
            },
            "type": "barpolar"
           }
          ],
          "carpet": [
           {
            "aaxis": {
             "endlinecolor": "#2a3f5f",
             "gridcolor": "white",
             "linecolor": "white",
             "minorgridcolor": "white",
             "startlinecolor": "#2a3f5f"
            },
            "baxis": {
             "endlinecolor": "#2a3f5f",
             "gridcolor": "white",
             "linecolor": "white",
             "minorgridcolor": "white",
             "startlinecolor": "#2a3f5f"
            },
            "type": "carpet"
           }
          ],
          "choropleth": [
           {
            "colorbar": {
             "outlinewidth": 0,
             "ticks": ""
            },
            "type": "choropleth"
           }
          ],
          "contour": [
           {
            "colorbar": {
             "outlinewidth": 0,
             "ticks": ""
            },
            "colorscale": [
             [
              0,
              "#0d0887"
             ],
             [
              0.1111111111111111,
              "#46039f"
             ],
             [
              0.2222222222222222,
              "#7201a8"
             ],
             [
              0.3333333333333333,
              "#9c179e"
             ],
             [
              0.4444444444444444,
              "#bd3786"
             ],
             [
              0.5555555555555556,
              "#d8576b"
             ],
             [
              0.6666666666666666,
              "#ed7953"
             ],
             [
              0.7777777777777778,
              "#fb9f3a"
             ],
             [
              0.8888888888888888,
              "#fdca26"
             ],
             [
              1,
              "#f0f921"
             ]
            ],
            "type": "contour"
           }
          ],
          "contourcarpet": [
           {
            "colorbar": {
             "outlinewidth": 0,
             "ticks": ""
            },
            "type": "contourcarpet"
           }
          ],
          "heatmap": [
           {
            "colorbar": {
             "outlinewidth": 0,
             "ticks": ""
            },
            "colorscale": [
             [
              0,
              "#0d0887"
             ],
             [
              0.1111111111111111,
              "#46039f"
             ],
             [
              0.2222222222222222,
              "#7201a8"
             ],
             [
              0.3333333333333333,
              "#9c179e"
             ],
             [
              0.4444444444444444,
              "#bd3786"
             ],
             [
              0.5555555555555556,
              "#d8576b"
             ],
             [
              0.6666666666666666,
              "#ed7953"
             ],
             [
              0.7777777777777778,
              "#fb9f3a"
             ],
             [
              0.8888888888888888,
              "#fdca26"
             ],
             [
              1,
              "#f0f921"
             ]
            ],
            "type": "heatmap"
           }
          ],
          "histogram": [
           {
            "marker": {
             "pattern": {
              "fillmode": "overlay",
              "size": 10,
              "solidity": 0.2
             }
            },
            "type": "histogram"
           }
          ],
          "histogram2d": [
           {
            "colorbar": {
             "outlinewidth": 0,
             "ticks": ""
            },
            "colorscale": [
             [
              0,
              "#0d0887"
             ],
             [
              0.1111111111111111,
              "#46039f"
             ],
             [
              0.2222222222222222,
              "#7201a8"
             ],
             [
              0.3333333333333333,
              "#9c179e"
             ],
             [
              0.4444444444444444,
              "#bd3786"
             ],
             [
              0.5555555555555556,
              "#d8576b"
             ],
             [
              0.6666666666666666,
              "#ed7953"
             ],
             [
              0.7777777777777778,
              "#fb9f3a"
             ],
             [
              0.8888888888888888,
              "#fdca26"
             ],
             [
              1,
              "#f0f921"
             ]
            ],
            "type": "histogram2d"
           }
          ],
          "histogram2dcontour": [
           {
            "colorbar": {
             "outlinewidth": 0,
             "ticks": ""
            },
            "colorscale": [
             [
              0,
              "#0d0887"
             ],
             [
              0.1111111111111111,
              "#46039f"
             ],
             [
              0.2222222222222222,
              "#7201a8"
             ],
             [
              0.3333333333333333,
              "#9c179e"
             ],
             [
              0.4444444444444444,
              "#bd3786"
             ],
             [
              0.5555555555555556,
              "#d8576b"
             ],
             [
              0.6666666666666666,
              "#ed7953"
             ],
             [
              0.7777777777777778,
              "#fb9f3a"
             ],
             [
              0.8888888888888888,
              "#fdca26"
             ],
             [
              1,
              "#f0f921"
             ]
            ],
            "type": "histogram2dcontour"
           }
          ],
          "mesh3d": [
           {
            "colorbar": {
             "outlinewidth": 0,
             "ticks": ""
            },
            "type": "mesh3d"
           }
          ],
          "parcoords": [
           {
            "line": {
             "colorbar": {
              "outlinewidth": 0,
              "ticks": ""
             }
            },
            "type": "parcoords"
           }
          ],
          "pie": [
           {
            "automargin": true,
            "type": "pie"
           }
          ],
          "scatter": [
           {
            "fillpattern": {
             "fillmode": "overlay",
             "size": 10,
             "solidity": 0.2
            },
            "type": "scatter"
           }
          ],
          "scatter3d": [
           {
            "line": {
             "colorbar": {
              "outlinewidth": 0,
              "ticks": ""
             }
            },
            "marker": {
             "colorbar": {
              "outlinewidth": 0,
              "ticks": ""
             }
            },
            "type": "scatter3d"
           }
          ],
          "scattercarpet": [
           {
            "marker": {
             "colorbar": {
              "outlinewidth": 0,
              "ticks": ""
             }
            },
            "type": "scattercarpet"
           }
          ],
          "scattergeo": [
           {
            "marker": {
             "colorbar": {
              "outlinewidth": 0,
              "ticks": ""
             }
            },
            "type": "scattergeo"
           }
          ],
          "scattergl": [
           {
            "marker": {
             "colorbar": {
              "outlinewidth": 0,
              "ticks": ""
             }
            },
            "type": "scattergl"
           }
          ],
          "scattermap": [
           {
            "marker": {
             "colorbar": {
              "outlinewidth": 0,
              "ticks": ""
             }
            },
            "type": "scattermap"
           }
          ],
          "scattermapbox": [
           {
            "marker": {
             "colorbar": {
              "outlinewidth": 0,
              "ticks": ""
             }
            },
            "type": "scattermapbox"
           }
          ],
          "scatterpolar": [
           {
            "marker": {
             "colorbar": {
              "outlinewidth": 0,
              "ticks": ""
             }
            },
            "type": "scatterpolar"
           }
          ],
          "scatterpolargl": [
           {
            "marker": {
             "colorbar": {
              "outlinewidth": 0,
              "ticks": ""
             }
            },
            "type": "scatterpolargl"
           }
          ],
          "scatterternary": [
           {
            "marker": {
             "colorbar": {
              "outlinewidth": 0,
              "ticks": ""
             }
            },
            "type": "scatterternary"
           }
          ],
          "surface": [
           {
            "colorbar": {
             "outlinewidth": 0,
             "ticks": ""
            },
            "colorscale": [
             [
              0,
              "#0d0887"
             ],
             [
              0.1111111111111111,
              "#46039f"
             ],
             [
              0.2222222222222222,
              "#7201a8"
             ],
             [
              0.3333333333333333,
              "#9c179e"
             ],
             [
              0.4444444444444444,
              "#bd3786"
             ],
             [
              0.5555555555555556,
              "#d8576b"
             ],
             [
              0.6666666666666666,
              "#ed7953"
             ],
             [
              0.7777777777777778,
              "#fb9f3a"
             ],
             [
              0.8888888888888888,
              "#fdca26"
             ],
             [
              1,
              "#f0f921"
             ]
            ],
            "type": "surface"
           }
          ],
          "table": [
           {
            "cells": {
             "fill": {
              "color": "#EBF0F8"
             },
             "line": {
              "color": "white"
             }
            },
            "header": {
             "fill": {
              "color": "#C8D4E3"
             },
             "line": {
              "color": "white"
             }
            },
            "type": "table"
           }
          ]
         },
         "layout": {
          "annotationdefaults": {
           "arrowcolor": "#2a3f5f",
           "arrowhead": 0,
           "arrowwidth": 1
          },
          "autotypenumbers": "strict",
          "coloraxis": {
           "colorbar": {
            "outlinewidth": 0,
            "ticks": ""
           }
          },
          "colorscale": {
           "diverging": [
            [
             0,
             "#8e0152"
            ],
            [
             0.1,
             "#c51b7d"
            ],
            [
             0.2,
             "#de77ae"
            ],
            [
             0.3,
             "#f1b6da"
            ],
            [
             0.4,
             "#fde0ef"
            ],
            [
             0.5,
             "#f7f7f7"
            ],
            [
             0.6,
             "#e6f5d0"
            ],
            [
             0.7,
             "#b8e186"
            ],
            [
             0.8,
             "#7fbc41"
            ],
            [
             0.9,
             "#4d9221"
            ],
            [
             1,
             "#276419"
            ]
           ],
           "sequential": [
            [
             0,
             "#0d0887"
            ],
            [
             0.1111111111111111,
             "#46039f"
            ],
            [
             0.2222222222222222,
             "#7201a8"
            ],
            [
             0.3333333333333333,
             "#9c179e"
            ],
            [
             0.4444444444444444,
             "#bd3786"
            ],
            [
             0.5555555555555556,
             "#d8576b"
            ],
            [
             0.6666666666666666,
             "#ed7953"
            ],
            [
             0.7777777777777778,
             "#fb9f3a"
            ],
            [
             0.8888888888888888,
             "#fdca26"
            ],
            [
             1,
             "#f0f921"
            ]
           ],
           "sequentialminus": [
            [
             0,
             "#0d0887"
            ],
            [
             0.1111111111111111,
             "#46039f"
            ],
            [
             0.2222222222222222,
             "#7201a8"
            ],
            [
             0.3333333333333333,
             "#9c179e"
            ],
            [
             0.4444444444444444,
             "#bd3786"
            ],
            [
             0.5555555555555556,
             "#d8576b"
            ],
            [
             0.6666666666666666,
             "#ed7953"
            ],
            [
             0.7777777777777778,
             "#fb9f3a"
            ],
            [
             0.8888888888888888,
             "#fdca26"
            ],
            [
             1,
             "#f0f921"
            ]
           ]
          },
          "colorway": [
           "#636efa",
           "#EF553B",
           "#00cc96",
           "#ab63fa",
           "#FFA15A",
           "#19d3f3",
           "#FF6692",
           "#B6E880",
           "#FF97FF",
           "#FECB52"
          ],
          "font": {
           "color": "#2a3f5f"
          },
          "geo": {
           "bgcolor": "white",
           "lakecolor": "white",
           "landcolor": "#E5ECF6",
           "showlakes": true,
           "showland": true,
           "subunitcolor": "white"
          },
          "hoverlabel": {
           "align": "left"
          },
          "hovermode": "closest",
          "mapbox": {
           "style": "light"
          },
          "paper_bgcolor": "white",
          "plot_bgcolor": "#E5ECF6",
          "polar": {
           "angularaxis": {
            "gridcolor": "white",
            "linecolor": "white",
            "ticks": ""
           },
           "bgcolor": "#E5ECF6",
           "radialaxis": {
            "gridcolor": "white",
            "linecolor": "white",
            "ticks": ""
           }
          },
          "scene": {
           "xaxis": {
            "backgroundcolor": "#E5ECF6",
            "gridcolor": "white",
            "gridwidth": 2,
            "linecolor": "white",
            "showbackground": true,
            "ticks": "",
            "zerolinecolor": "white"
           },
           "yaxis": {
            "backgroundcolor": "#E5ECF6",
            "gridcolor": "white",
            "gridwidth": 2,
            "linecolor": "white",
            "showbackground": true,
            "ticks": "",
            "zerolinecolor": "white"
           },
           "zaxis": {
            "backgroundcolor": "#E5ECF6",
            "gridcolor": "white",
            "gridwidth": 2,
            "linecolor": "white",
            "showbackground": true,
            "ticks": "",
            "zerolinecolor": "white"
           }
          },
          "shapedefaults": {
           "line": {
            "color": "#2a3f5f"
           }
          },
          "ternary": {
           "aaxis": {
            "gridcolor": "white",
            "linecolor": "white",
            "ticks": ""
           },
           "baxis": {
            "gridcolor": "white",
            "linecolor": "white",
            "ticks": ""
           },
           "bgcolor": "#E5ECF6",
           "caxis": {
            "gridcolor": "white",
            "linecolor": "white",
            "ticks": ""
           }
          },
          "title": {
           "x": 0.05
          },
          "xaxis": {
           "automargin": true,
           "gridcolor": "white",
           "linecolor": "white",
           "ticks": "",
           "title": {
            "standoff": 15
           },
           "zerolinecolor": "white",
           "zerolinewidth": 2
          },
          "yaxis": {
           "automargin": true,
           "gridcolor": "white",
           "linecolor": "white",
           "ticks": "",
           "title": {
            "standoff": 15
           },
           "zerolinecolor": "white",
           "zerolinewidth": 2
          }
         }
        },
        "title": {
         "text": "Interactive 3D Vector Field"
        }
       }
      }
     },
     "metadata": {},
     "output_type": "display_data"
    }
   ],
   "source": [
    "import sympy as smp\n",
    "from sympy import latex\n",
    "from sympy.utilities.lambdify import lambdify\n",
    "from IPython.display import display, Math\n",
    "import numpy as np\n",
    "import plotly.graph_objects as go\n",
    "\n",
    "# Define symbols\n",
    "x, y, z = smp.symbols('x y z')\n",
    "\n",
    "# Vector field expressions (replace with user input if needed)\n",
    "field_in_x = \"2*x*y\"\n",
    "field_in_y = \"5*y**2\"\n",
    "field_in_z = \"6*sin(x)*cos(y)/cos(z)\"  # avoid sec(z) directly; use 1/cos(z)\n",
    "\n",
    "# Convert to symbolic expressions\n",
    "expr_x = smp.sympify(field_in_x)\n",
    "expr_y = smp.sympify(field_in_y)\n",
    "expr_z = smp.sympify(field_in_z)\n",
    "\n",
    "# Display LaTeX\n",
    "components = []\n",
    "if expr_x != 0:\n",
    "    components.append(f\"{latex(expr_x)}\\\\hat{{i}}\")\n",
    "if expr_y != 0:\n",
    "    components.append(f\"{latex(expr_y)}\\\\hat{{j}}\")\n",
    "if expr_z != 0:\n",
    "    components.append(f\"{latex(expr_z)}\\\\hat{{k}}\")\n",
    "\n",
    "full_latex = r\"\\vec{F} = \" + \" + \".join(components)\n",
    "display(Math(full_latex))\n",
    "\n",
    "# Lambdify for numerical evaluation\n",
    "fx = lambdify((x, y, z), expr_x, modules='numpy')\n",
    "fy = lambdify((x, y, z), expr_y, modules='numpy')\n",
    "fz = lambdify((x, y, z), expr_z, modules='numpy')\n",
    "\n",
    "# Create a 3D grid\n",
    "x_vals = np.linspace(-2, 2, 7)\n",
    "y_vals = np.linspace(-2, 2, 7)\n",
    "z_vals = np.linspace(-1.5, 1.5, 5)\n",
    "X, Y, Z = np.meshgrid(x_vals, y_vals, z_vals)\n",
    "\n",
    "# Flatten grid for evaluation\n",
    "Xf, Yf, Zf = X.flatten(), Y.flatten(), Z.flatten()\n",
    "\n",
    "# Compute vector components at each grid point\n",
    "U = fx(Xf, Yf, Zf)\n",
    "V = fy(Xf, Yf, Zf)\n",
    "W = fz(Xf, Yf, Zf)\n",
    "\n",
    "# Normalize vectors for better display\n",
    "magnitude = np.sqrt(U**2 + V**2 + W**2) + 1e-8\n",
    "U_norm = U / magnitude\n",
    "V_norm = V / magnitude\n",
    "W_norm = W / magnitude\n",
    "\n",
    "# Create interactive 3D vector field using Plotly\n",
    "fig = go.Figure(data=go.Cone(\n",
    "    x=Xf, y=Yf, z=Zf,\n",
    "    u=U_norm, v=V_norm, w=W_norm,\n",
    "    sizemode=\"absolute\",\n",
    "    sizeref=0.5,\n",
    "    anchor=\"tail\",\n",
    "    colorscale=\"Blues\",\n",
    "    showscale=True\n",
    "))\n",
    "\n",
    "fig.update_layout(\n",
    "    scene=dict(\n",
    "        xaxis_title='X',\n",
    "        yaxis_title='Y',\n",
    "        zaxis_title='Z',\n",
    "        aspectmode='cube'\n",
    "    ),\n",
    "    title=\"Interactive 3D Vector Field\"\n",
    ")\n",
    "\n",
    "fig.show()\n"
   ]
  },
  {
   "cell_type": "code",
   "execution_count": null,
   "id": "e34edbbd",
   "metadata": {},
   "outputs": [],
   "source": []
  }
 ],
 "metadata": {
  "kernelspec": {
   "display_name": ".simuphys",
   "language": "python",
   "name": "python3"
  },
  "language_info": {
   "codemirror_mode": {
    "name": "ipython",
    "version": 3
   },
   "file_extension": ".py",
   "mimetype": "text/x-python",
   "name": "python",
   "nbconvert_exporter": "python",
   "pygments_lexer": "ipython3",
   "version": "3.12.0"
  }
 },
 "nbformat": 4,
 "nbformat_minor": 5
}
